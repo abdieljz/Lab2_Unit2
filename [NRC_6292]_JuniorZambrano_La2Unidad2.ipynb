{
 "cells": [
  {
   "cell_type": "code",
   "execution_count": 2,
   "id": "2c3604e0",
   "metadata": {},
   "outputs": [],
   "source": [
    "'''librerias a usar'''\n",
    "import pandas as pd"
   ]
  },
  {
   "cell_type": "code",
   "execution_count": 3,
   "id": "e1ff1c71",
   "metadata": {},
   "outputs": [
    {
     "data": {
      "text/html": [
       "<div>\n",
       "<style scoped>\n",
       "    .dataframe tbody tr th:only-of-type {\n",
       "        vertical-align: middle;\n",
       "    }\n",
       "\n",
       "    .dataframe tbody tr th {\n",
       "        vertical-align: top;\n",
       "    }\n",
       "\n",
       "    .dataframe thead th {\n",
       "        text-align: right;\n",
       "    }\n",
       "</style>\n",
       "<table border=\"1\" class=\"dataframe\">\n",
       "  <thead>\n",
       "    <tr style=\"text-align: right;\">\n",
       "      <th></th>\n",
       "      <th>CrimeId</th>\n",
       "      <th>OriginalCrimeTypeName</th>\n",
       "      <th>OffenseDate</th>\n",
       "      <th>CallTime</th>\n",
       "      <th>CallDateTime</th>\n",
       "      <th>Disposition</th>\n",
       "      <th>Address</th>\n",
       "      <th>City</th>\n",
       "      <th>State</th>\n",
       "      <th>AgencyId</th>\n",
       "      <th>Range</th>\n",
       "      <th>AddressType</th>\n",
       "    </tr>\n",
       "  </thead>\n",
       "  <tbody>\n",
       "    <tr>\n",
       "      <th>6546</th>\n",
       "      <td>160943460</td>\n",
       "      <td>Well Being Check</td>\n",
       "      <td>2016-04-03T00:00:00</td>\n",
       "      <td>21:37</td>\n",
       "      <td>2016-04-03T21:37:00</td>\n",
       "      <td>NOM</td>\n",
       "      <td>200 Block Of Golden Gate Av</td>\n",
       "      <td>San Francisco</td>\n",
       "      <td>CA</td>\n",
       "      <td>1</td>\n",
       "      <td>NaN</td>\n",
       "      <td>Premise Address</td>\n",
       "    </tr>\n",
       "    <tr>\n",
       "      <th>2744</th>\n",
       "      <td>160930754</td>\n",
       "      <td>Trespasser</td>\n",
       "      <td>2016-04-02T00:00:00</td>\n",
       "      <td>7:54</td>\n",
       "      <td>2016-04-02T07:54:00</td>\n",
       "      <td>CAN</td>\n",
       "      <td>1300 Block Of Utah St</td>\n",
       "      <td>San Francisco</td>\n",
       "      <td>CA</td>\n",
       "      <td>1</td>\n",
       "      <td>NaN</td>\n",
       "      <td>Premise Address</td>\n",
       "    </tr>\n",
       "    <tr>\n",
       "      <th>4602</th>\n",
       "      <td>160940049</td>\n",
       "      <td>Noise Nuisance</td>\n",
       "      <td>2016-04-03T00:00:00</td>\n",
       "      <td>0:15</td>\n",
       "      <td>2016-04-03T00:15:00</td>\n",
       "      <td>CAN</td>\n",
       "      <td>500 Block Of Minna St</td>\n",
       "      <td>San Francisco</td>\n",
       "      <td>CA</td>\n",
       "      <td>1</td>\n",
       "      <td>NaN</td>\n",
       "      <td>Premise Address</td>\n",
       "    </tr>\n",
       "  </tbody>\n",
       "</table>\n",
       "</div>"
      ],
      "text/plain": [
       "        CrimeId OriginalCrimeTypeName          OffenseDate CallTime  \\\n",
       "6546  160943460      Well Being Check  2016-04-03T00:00:00    21:37   \n",
       "2744  160930754            Trespasser  2016-04-02T00:00:00     7:54   \n",
       "4602  160940049        Noise Nuisance  2016-04-03T00:00:00     0:15   \n",
       "\n",
       "             CallDateTime Disposition                      Address  \\\n",
       "6546  2016-04-03T21:37:00         NOM  200 Block Of Golden Gate Av   \n",
       "2744  2016-04-02T07:54:00         CAN        1300 Block Of Utah St   \n",
       "4602  2016-04-03T00:15:00         CAN        500 Block Of Minna St   \n",
       "\n",
       "               City State AgencyId  Range      AddressType  \n",
       "6546  San Francisco    CA        1    NaN  Premise Address  \n",
       "2744  San Francisco    CA        1    NaN  Premise Address  \n",
       "4602  San Francisco    CA        1    NaN  Premise Address  "
      ]
     },
     "execution_count": 3,
     "metadata": {},
     "output_type": "execute_result"
    }
   ],
   "source": [
    "'''Importacion del data set'''\n",
    "data = pd.read_csv('data_act_01.csv', sep=';')\n",
    "data.sample(3)"
   ]
  },
  {
   "cell_type": "code",
   "execution_count": 4,
   "id": "ff4e72cd",
   "metadata": {},
   "outputs": [
    {
     "name": "stdout",
     "output_type": "stream",
     "text": [
      "<class 'pandas.core.frame.DataFrame'>\n",
      "RangeIndex: 10051 entries, 0 to 10050\n",
      "Data columns (total 12 columns):\n",
      " #   Column                 Non-Null Count  Dtype  \n",
      "---  ------                 --------------  -----  \n",
      " 0   CrimeId                10051 non-null  int64  \n",
      " 1   OriginalCrimeTypeName  10051 non-null  object \n",
      " 2   OffenseDate            10051 non-null  object \n",
      " 3   CallTime               10051 non-null  object \n",
      " 4   CallDateTime           10051 non-null  object \n",
      " 5   Disposition            10051 non-null  object \n",
      " 6   Address                10051 non-null  object \n",
      " 7   City                   9730 non-null   object \n",
      " 8   State                  10048 non-null  object \n",
      " 9   AgencyId               10051 non-null  object \n",
      " 10  Range                  0 non-null      float64\n",
      " 11  AddressType            10051 non-null  object \n",
      "dtypes: float64(1), int64(1), object(10)\n",
      "memory usage: 942.4+ KB\n"
     ]
    }
   ],
   "source": [
    "'''Información Global de los datos'''\n",
    "data.info()"
   ]
  },
  {
   "cell_type": "code",
   "execution_count": null,
   "id": "04b005c9",
   "metadata": {},
   "outputs": [],
   "source": []
  }
 ],
 "metadata": {
  "kernelspec": {
   "display_name": "Python 3 (ipykernel)",
   "language": "python",
   "name": "python3"
  },
  "language_info": {
   "codemirror_mode": {
    "name": "ipython",
    "version": 3
   },
   "file_extension": ".py",
   "mimetype": "text/x-python",
   "name": "python",
   "nbconvert_exporter": "python",
   "pygments_lexer": "ipython3",
   "version": "3.9.12"
  }
 },
 "nbformat": 4,
 "nbformat_minor": 5
}
