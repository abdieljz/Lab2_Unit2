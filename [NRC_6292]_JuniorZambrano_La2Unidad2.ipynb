{
 "cells": [
  {
   "cell_type": "markdown",
   "id": "a8d3436f",
   "metadata": {},
   "source": [
    "# Zambrano Garofalo Junior Vidal\n",
    "\n",
    "## Minería de Datos (ESPE)"
   ]
  },
  {
   "cell_type": "markdown",
   "id": "c368e3a7",
   "metadata": {},
   "source": [
    "# Librerias"
   ]
  },
  {
   "cell_type": "code",
   "execution_count": 1,
   "id": "2c3604e0",
   "metadata": {},
   "outputs": [],
   "source": [
    "'''librerias a usar'''\n",
    "import pandas as pd\n",
    "import numpy as np\n",
    "import matplotlib.pyplot as plt\n",
    "%matplotlib inline"
   ]
  },
  {
   "cell_type": "markdown",
   "id": "18f6e246",
   "metadata": {},
   "source": [
    "# Dataset"
   ]
  },
  {
   "cell_type": "code",
   "execution_count": 2,
   "id": "e1ff1c71",
   "metadata": {
    "scrolled": true
   },
   "outputs": [
    {
     "data": {
      "text/html": [
       "<div>\n",
       "<style scoped>\n",
       "    .dataframe tbody tr th:only-of-type {\n",
       "        vertical-align: middle;\n",
       "    }\n",
       "\n",
       "    .dataframe tbody tr th {\n",
       "        vertical-align: top;\n",
       "    }\n",
       "\n",
       "    .dataframe thead th {\n",
       "        text-align: right;\n",
       "    }\n",
       "</style>\n",
       "<table border=\"1\" class=\"dataframe\">\n",
       "  <thead>\n",
       "    <tr style=\"text-align: right;\">\n",
       "      <th></th>\n",
       "      <th>CrimeId</th>\n",
       "      <th>OriginalCrimeTypeName</th>\n",
       "      <th>OffenseDate</th>\n",
       "      <th>CallTime</th>\n",
       "      <th>CallDateTime</th>\n",
       "      <th>Disposition</th>\n",
       "      <th>Address</th>\n",
       "      <th>City</th>\n",
       "      <th>State</th>\n",
       "      <th>AgencyId</th>\n",
       "      <th>Range</th>\n",
       "      <th>AddressType</th>\n",
       "    </tr>\n",
       "  </thead>\n",
       "  <tbody>\n",
       "    <tr>\n",
       "      <th>7015</th>\n",
       "      <td>160950449</td>\n",
       "      <td>Homeless Complaint</td>\n",
       "      <td>2016-04-04T00:00:00</td>\n",
       "      <td>6:25</td>\n",
       "      <td>2016-04-04T06:25:00</td>\n",
       "      <td>CIT</td>\n",
       "      <td>500 Block Of Eddy St</td>\n",
       "      <td>San Francisco</td>\n",
       "      <td>CA</td>\n",
       "      <td>1</td>\n",
       "      <td>NaN</td>\n",
       "      <td>Premise Address</td>\n",
       "    </tr>\n",
       "    <tr>\n",
       "      <th>3526</th>\n",
       "      <td>160932133</td>\n",
       "      <td>Fight No Weapon</td>\n",
       "      <td>2016-04-02T00:00:00</td>\n",
       "      <td>14:59</td>\n",
       "      <td>2016-04-02T14:59:00</td>\n",
       "      <td>CAN</td>\n",
       "      <td>100 Block Of Navy Rd</td>\n",
       "      <td>San Francisco</td>\n",
       "      <td>CA</td>\n",
       "      <td>1</td>\n",
       "      <td>NaN</td>\n",
       "      <td>Premise Address</td>\n",
       "    </tr>\n",
       "    <tr>\n",
       "      <th>2361</th>\n",
       "      <td>160930073</td>\n",
       "      <td>Suspicious Person</td>\n",
       "      <td>2016-04-02T00:00:00</td>\n",
       "      <td>0:28</td>\n",
       "      <td>2016-04-02T00:28:00</td>\n",
       "      <td>HAN</td>\n",
       "      <td>3rd St/townsend St</td>\n",
       "      <td>San Francisco</td>\n",
       "      <td>CA</td>\n",
       "      <td>1</td>\n",
       "      <td>NaN</td>\n",
       "      <td>Intersection</td>\n",
       "    </tr>\n",
       "  </tbody>\n",
       "</table>\n",
       "</div>"
      ],
      "text/plain": [
       "        CrimeId OriginalCrimeTypeName          OffenseDate CallTime  \\\n",
       "7015  160950449    Homeless Complaint  2016-04-04T00:00:00     6:25   \n",
       "3526  160932133       Fight No Weapon  2016-04-02T00:00:00    14:59   \n",
       "2361  160930073     Suspicious Person  2016-04-02T00:00:00     0:28   \n",
       "\n",
       "             CallDateTime Disposition               Address           City  \\\n",
       "7015  2016-04-04T06:25:00         CIT  500 Block Of Eddy St  San Francisco   \n",
       "3526  2016-04-02T14:59:00         CAN  100 Block Of Navy Rd  San Francisco   \n",
       "2361  2016-04-02T00:28:00         HAN    3rd St/townsend St  San Francisco   \n",
       "\n",
       "     State AgencyId  Range      AddressType  \n",
       "7015    CA        1    NaN  Premise Address  \n",
       "3526    CA        1    NaN  Premise Address  \n",
       "2361    CA        1    NaN     Intersection  "
      ]
     },
     "execution_count": 2,
     "metadata": {},
     "output_type": "execute_result"
    }
   ],
   "source": [
    "'''Importacion del data set'''\n",
    "data = pd.read_csv('data_act_01.csv', sep=';')\n",
    "'''Impresión del csv'''\n",
    "data.sample(3)"
   ]
  },
  {
   "cell_type": "code",
   "execution_count": 3,
   "id": "93c4a1ef",
   "metadata": {},
   "outputs": [
    {
     "name": "stdout",
     "output_type": "stream",
     "text": [
      "<class 'pandas.core.frame.DataFrame'>\n",
      "RangeIndex: 10051 entries, 0 to 10050\n",
      "Data columns (total 12 columns):\n",
      " #   Column                 Non-Null Count  Dtype  \n",
      "---  ------                 --------------  -----  \n",
      " 0   CrimeId                10051 non-null  int64  \n",
      " 1   OriginalCrimeTypeName  10051 non-null  object \n",
      " 2   OffenseDate            10051 non-null  object \n",
      " 3   CallTime               10051 non-null  object \n",
      " 4   CallDateTime           10051 non-null  object \n",
      " 5   Disposition            10051 non-null  object \n",
      " 6   Address                10051 non-null  object \n",
      " 7   City                   9730 non-null   object \n",
      " 8   State                  10048 non-null  object \n",
      " 9   AgencyId               10051 non-null  object \n",
      " 10  Range                  0 non-null      float64\n",
      " 11  AddressType            10051 non-null  object \n",
      "dtypes: float64(1), int64(1), object(10)\n",
      "memory usage: 942.4+ KB\n"
     ]
    }
   ],
   "source": [
    "'''Información Global de los datos'''\n",
    "data.info()"
   ]
  },
  {
   "cell_type": "markdown",
   "id": "c27a5899",
   "metadata": {},
   "source": [
    "# Datos null"
   ]
  },
  {
   "cell_type": "code",
   "execution_count": 4,
   "id": "73333ccb",
   "metadata": {},
   "outputs": [
    {
     "data": {
      "text/plain": [
       "CrimeId                      0\n",
       "OriginalCrimeTypeName        0\n",
       "OffenseDate                  0\n",
       "CallTime                     0\n",
       "CallDateTime                 0\n",
       "Disposition                  0\n",
       "Address                      0\n",
       "City                       321\n",
       "State                        3\n",
       "AgencyId                     0\n",
       "Range                    10051\n",
       "AddressType                  0\n",
       "dtype: int64"
      ]
     },
     "execution_count": 4,
     "metadata": {},
     "output_type": "execute_result"
    }
   ],
   "source": [
    "'''Conteo general de datos null'''\n",
    "data.isnull().sum()"
   ]
  },
  {
   "cell_type": "code",
   "execution_count": 5,
   "id": "0cae9b26",
   "metadata": {},
   "outputs": [
    {
     "data": {
      "text/html": [
       "<div>\n",
       "<style scoped>\n",
       "    .dataframe tbody tr th:only-of-type {\n",
       "        vertical-align: middle;\n",
       "    }\n",
       "\n",
       "    .dataframe tbody tr th {\n",
       "        vertical-align: top;\n",
       "    }\n",
       "\n",
       "    .dataframe thead th {\n",
       "        text-align: right;\n",
       "    }\n",
       "</style>\n",
       "<table border=\"1\" class=\"dataframe\">\n",
       "  <thead>\n",
       "    <tr style=\"text-align: right;\">\n",
       "      <th></th>\n",
       "      <th>CrimeId</th>\n",
       "      <th>OriginalCrimeTypeName</th>\n",
       "      <th>OffenseDate</th>\n",
       "      <th>CallTime</th>\n",
       "      <th>CallDateTime</th>\n",
       "      <th>Disposition</th>\n",
       "      <th>Address</th>\n",
       "      <th>City</th>\n",
       "      <th>State</th>\n",
       "      <th>AgencyId</th>\n",
       "      <th>AddressType</th>\n",
       "    </tr>\n",
       "  </thead>\n",
       "  <tbody>\n",
       "    <tr>\n",
       "      <th>4912</th>\n",
       "      <td>160940623</td>\n",
       "      <td>Noise Nuisance</td>\n",
       "      <td>2016-04-03T00:00:00</td>\n",
       "      <td>4:54</td>\n",
       "      <td>2016-04-03T04:54:00</td>\n",
       "      <td>ADV</td>\n",
       "      <td>2000 Block Of Silver Av</td>\n",
       "      <td>San Francisco</td>\n",
       "      <td>CA</td>\n",
       "      <td>1</td>\n",
       "      <td>Premise Address</td>\n",
       "    </tr>\n",
       "    <tr>\n",
       "      <th>1184</th>\n",
       "      <td>160922068</td>\n",
       "      <td>Passing Call</td>\n",
       "      <td>2016-04-01T00:00:00</td>\n",
       "      <td>14:44</td>\n",
       "      <td>2016-04-01T14:44:00</td>\n",
       "      <td>Not recorded</td>\n",
       "      <td>1700 Block Of Sunnydale Av</td>\n",
       "      <td>San Francisco</td>\n",
       "      <td>CA</td>\n",
       "      <td>1</td>\n",
       "      <td>Common Location</td>\n",
       "    </tr>\n",
       "    <tr>\n",
       "      <th>9475</th>\n",
       "      <td>160961774</td>\n",
       "      <td>Live Band</td>\n",
       "      <td>2016-04-05T00:00:00</td>\n",
       "      <td>12:48</td>\n",
       "      <td>2016-04-05T12:48:00</td>\n",
       "      <td>ND</td>\n",
       "      <td>1000 Block Of Market St</td>\n",
       "      <td>San Francisco</td>\n",
       "      <td>CA</td>\n",
       "      <td>1</td>\n",
       "      <td>Premise Address</td>\n",
       "    </tr>\n",
       "  </tbody>\n",
       "</table>\n",
       "</div>"
      ],
      "text/plain": [
       "        CrimeId OriginalCrimeTypeName          OffenseDate CallTime  \\\n",
       "4912  160940623        Noise Nuisance  2016-04-03T00:00:00     4:54   \n",
       "1184  160922068          Passing Call  2016-04-01T00:00:00    14:44   \n",
       "9475  160961774             Live Band  2016-04-05T00:00:00    12:48   \n",
       "\n",
       "             CallDateTime   Disposition                     Address  \\\n",
       "4912  2016-04-03T04:54:00           ADV     2000 Block Of Silver Av   \n",
       "1184  2016-04-01T14:44:00  Not recorded  1700 Block Of Sunnydale Av   \n",
       "9475  2016-04-05T12:48:00            ND     1000 Block Of Market St   \n",
       "\n",
       "               City State AgencyId      AddressType  \n",
       "4912  San Francisco    CA        1  Premise Address  \n",
       "1184  San Francisco    CA        1  Common Location  \n",
       "9475  San Francisco    CA        1  Premise Address  "
      ]
     },
     "execution_count": 5,
     "metadata": {},
     "output_type": "execute_result"
    }
   ],
   "source": [
    "'''El determinar que la columna Range posee 10051 datos null y la muestra es de 10051 datos, se procede a eliminarla toda'''\n",
    "data = data.drop(['Range'], axis=1)\n",
    "data.sample(3)"
   ]
  },
  {
   "cell_type": "code",
   "execution_count": 6,
   "id": "a3517001",
   "metadata": {},
   "outputs": [
    {
     "data": {
      "text/html": [
       "<div>\n",
       "<style scoped>\n",
       "    .dataframe tbody tr th:only-of-type {\n",
       "        vertical-align: middle;\n",
       "    }\n",
       "\n",
       "    .dataframe tbody tr th {\n",
       "        vertical-align: top;\n",
       "    }\n",
       "\n",
       "    .dataframe thead th {\n",
       "        text-align: right;\n",
       "    }\n",
       "</style>\n",
       "<table border=\"1\" class=\"dataframe\">\n",
       "  <thead>\n",
       "    <tr style=\"text-align: right;\">\n",
       "      <th></th>\n",
       "      <th>CrimeId</th>\n",
       "      <th>OriginalCrimeTypeName</th>\n",
       "      <th>OffenseDate</th>\n",
       "      <th>CallTime</th>\n",
       "      <th>CallDateTime</th>\n",
       "      <th>Disposition</th>\n",
       "      <th>Address</th>\n",
       "      <th>City</th>\n",
       "      <th>State</th>\n",
       "      <th>AgencyId</th>\n",
       "      <th>AddressType</th>\n",
       "    </tr>\n",
       "  </thead>\n",
       "  <tbody>\n",
       "    <tr>\n",
       "      <th>4966</th>\n",
       "      <td>160940742</td>\n",
       "      <td>Audible Alarm</td>\n",
       "      <td>2016-04-03T00:00:00</td>\n",
       "      <td>6:39</td>\n",
       "      <td>2016-04-03T06:39:00</td>\n",
       "      <td>HAN</td>\n",
       "      <td>200 Block Of Ellis St</td>\n",
       "      <td>San Francisco</td>\n",
       "      <td>CA</td>\n",
       "      <td>1</td>\n",
       "      <td>Premise Address</td>\n",
       "    </tr>\n",
       "    <tr>\n",
       "      <th>3166</th>\n",
       "      <td>160931514</td>\n",
       "      <td>Traffic Stop</td>\n",
       "      <td>2016-04-02T00:00:00</td>\n",
       "      <td>12:05</td>\n",
       "      <td>2016-04-02T12:05:00</td>\n",
       "      <td>HAN</td>\n",
       "      <td>Mission St/26th St</td>\n",
       "      <td>San Francisco</td>\n",
       "      <td>CA</td>\n",
       "      <td>1</td>\n",
       "      <td>Intersection</td>\n",
       "    </tr>\n",
       "    <tr>\n",
       "      <th>1925</th>\n",
       "      <td>160923402</td>\n",
       "      <td>909</td>\n",
       "      <td>2016-04-01T00:00:00</td>\n",
       "      <td>20:38</td>\n",
       "      <td>2016-04-01T20:38:00</td>\n",
       "      <td>GOA</td>\n",
       "      <td>0 Block Of Powell St</td>\n",
       "      <td>San Francisco</td>\n",
       "      <td>CA</td>\n",
       "      <td>1</td>\n",
       "      <td>Premise Address</td>\n",
       "    </tr>\n",
       "  </tbody>\n",
       "</table>\n",
       "</div>"
      ],
      "text/plain": [
       "        CrimeId OriginalCrimeTypeName          OffenseDate CallTime  \\\n",
       "4966  160940742         Audible Alarm  2016-04-03T00:00:00     6:39   \n",
       "3166  160931514          Traffic Stop  2016-04-02T00:00:00    12:05   \n",
       "1925  160923402                   909  2016-04-01T00:00:00    20:38   \n",
       "\n",
       "             CallDateTime Disposition                Address           City  \\\n",
       "4966  2016-04-03T06:39:00         HAN  200 Block Of Ellis St  San Francisco   \n",
       "3166  2016-04-02T12:05:00         HAN     Mission St/26th St  San Francisco   \n",
       "1925  2016-04-01T20:38:00         GOA   0 Block Of Powell St  San Francisco   \n",
       "\n",
       "     State AgencyId      AddressType  \n",
       "4966    CA        1  Premise Address  \n",
       "3166    CA        1     Intersection  \n",
       "1925    CA        1  Premise Address  "
      ]
     },
     "execution_count": 6,
     "metadata": {},
     "output_type": "execute_result"
    }
   ],
   "source": [
    "'''Trabajar solo con datos que no contengan NULL'''\n",
    "data = data.dropna()\n",
    "data.sample(3)"
   ]
  },
  {
   "cell_type": "code",
   "execution_count": 7,
   "id": "926e5eab",
   "metadata": {},
   "outputs": [
    {
     "data": {
      "text/plain": [
       "CrimeId                  0\n",
       "OriginalCrimeTypeName    0\n",
       "OffenseDate              0\n",
       "CallTime                 0\n",
       "CallDateTime             0\n",
       "Disposition              0\n",
       "Address                  0\n",
       "City                     0\n",
       "State                    0\n",
       "AgencyId                 0\n",
       "AddressType              0\n",
       "dtype: int64"
      ]
     },
     "execution_count": 7,
     "metadata": {},
     "output_type": "execute_result"
    }
   ],
   "source": [
    "'''Comprobación que no existen null'''\n",
    "data.isnull().sum()"
   ]
  },
  {
   "cell_type": "markdown",
   "id": "22fa695b",
   "metadata": {},
   "source": [
    "# Datos duplicados"
   ]
  },
  {
   "cell_type": "code",
   "execution_count": 8,
   "id": "acf0325c",
   "metadata": {},
   "outputs": [
    {
     "data": {
      "text/plain": [
       "160950496    3\n",
       "160913455    3\n",
       "160943709    1\n",
       "160943698    1\n",
       "160943699    1\n",
       "            ..\n",
       "160931810    1\n",
       "160931811    1\n",
       "160931812    1\n",
       "160931813    1\n",
       "160964249    1\n",
       "Name: CrimeId, Length: 9725, dtype: int64"
      ]
     },
     "execution_count": 8,
     "metadata": {},
     "output_type": "execute_result"
    }
   ],
   "source": [
    "'''Determinar en la sección CrimeId, si existen duplicados, dado que es un Id unico, no debería'''\n",
    "aux = data['CrimeId']\n",
    "saux = pd.Series(aux)\n",
    "saux.value_counts()"
   ]
  },
  {
   "cell_type": "code",
   "execution_count": 9,
   "id": "db63399b",
   "metadata": {},
   "outputs": [
    {
     "data": {
      "text/html": [
       "<div>\n",
       "<style scoped>\n",
       "    .dataframe tbody tr th:only-of-type {\n",
       "        vertical-align: middle;\n",
       "    }\n",
       "\n",
       "    .dataframe tbody tr th {\n",
       "        vertical-align: top;\n",
       "    }\n",
       "\n",
       "    .dataframe thead th {\n",
       "        text-align: right;\n",
       "    }\n",
       "</style>\n",
       "<table border=\"1\" class=\"dataframe\">\n",
       "  <thead>\n",
       "    <tr style=\"text-align: right;\">\n",
       "      <th></th>\n",
       "      <th>CrimeId</th>\n",
       "      <th>OriginalCrimeTypeName</th>\n",
       "      <th>OffenseDate</th>\n",
       "      <th>CallTime</th>\n",
       "      <th>CallDateTime</th>\n",
       "      <th>Disposition</th>\n",
       "      <th>Address</th>\n",
       "      <th>City</th>\n",
       "      <th>State</th>\n",
       "      <th>AgencyId</th>\n",
       "      <th>AddressType</th>\n",
       "    </tr>\n",
       "  </thead>\n",
       "  <tbody>\n",
       "    <tr>\n",
       "      <th>8935</th>\n",
       "      <td>160954004</td>\n",
       "      <td>Suspicious Person</td>\n",
       "      <td>2016-04-04T00:00:00</td>\n",
       "      <td>22:37</td>\n",
       "      <td>2016-04-04T22:37:00</td>\n",
       "      <td>HAN</td>\n",
       "      <td>Turk St/leavenworth St</td>\n",
       "      <td>San Francisco</td>\n",
       "      <td>CA</td>\n",
       "      <td>1</td>\n",
       "      <td>Intersection</td>\n",
       "    </tr>\n",
       "    <tr>\n",
       "      <th>4060</th>\n",
       "      <td>160933109</td>\n",
       "      <td>Stolen Vehicle</td>\n",
       "      <td>2016-04-02T00:00:00</td>\n",
       "      <td>19:24</td>\n",
       "      <td>2016-04-02T19:24:00</td>\n",
       "      <td>REP</td>\n",
       "      <td>Howard St/steuart St</td>\n",
       "      <td>San Francisco</td>\n",
       "      <td>CA</td>\n",
       "      <td>1</td>\n",
       "      <td>Intersection</td>\n",
       "    </tr>\n",
       "    <tr>\n",
       "      <th>3135</th>\n",
       "      <td>160931462</td>\n",
       "      <td>Fight No Weapon</td>\n",
       "      <td>2016-04-02T00:00:00</td>\n",
       "      <td>11:50</td>\n",
       "      <td>2016-04-02T11:50:00</td>\n",
       "      <td>HAN</td>\n",
       "      <td>King St/3rd St</td>\n",
       "      <td>San Francisco</td>\n",
       "      <td>CA</td>\n",
       "      <td>1</td>\n",
       "      <td>Intersection</td>\n",
       "    </tr>\n",
       "  </tbody>\n",
       "</table>\n",
       "</div>"
      ],
      "text/plain": [
       "        CrimeId OriginalCrimeTypeName          OffenseDate CallTime  \\\n",
       "8935  160954004     Suspicious Person  2016-04-04T00:00:00    22:37   \n",
       "4060  160933109        Stolen Vehicle  2016-04-02T00:00:00    19:24   \n",
       "3135  160931462       Fight No Weapon  2016-04-02T00:00:00    11:50   \n",
       "\n",
       "             CallDateTime Disposition                 Address           City  \\\n",
       "8935  2016-04-04T22:37:00         HAN  Turk St/leavenworth St  San Francisco   \n",
       "4060  2016-04-02T19:24:00         REP    Howard St/steuart St  San Francisco   \n",
       "3135  2016-04-02T11:50:00         HAN          King St/3rd St  San Francisco   \n",
       "\n",
       "     State AgencyId   AddressType  \n",
       "8935    CA        1  Intersection  \n",
       "4060    CA        1  Intersection  \n",
       "3135    CA        1  Intersection  "
      ]
     },
     "execution_count": 9,
     "metadata": {},
     "output_type": "execute_result"
    }
   ],
   "source": [
    "'''Al comprobar que si existen registro duplicados, se eliminan.'''\n",
    "data['CrimeId'].duplicated().sum()\n",
    "data.drop_duplicates(inplace=True)\n",
    "data.sample(3)"
   ]
  },
  {
   "cell_type": "markdown",
   "id": "0d0c54c8",
   "metadata": {},
   "source": [
    "# Datos redundante"
   ]
  },
  {
   "cell_type": "code",
   "execution_count": 10,
   "id": "bec211b6",
   "metadata": {},
   "outputs": [
    {
     "data": {
      "text/html": [
       "<div>\n",
       "<style scoped>\n",
       "    .dataframe tbody tr th:only-of-type {\n",
       "        vertical-align: middle;\n",
       "    }\n",
       "\n",
       "    .dataframe tbody tr th {\n",
       "        vertical-align: top;\n",
       "    }\n",
       "\n",
       "    .dataframe thead th {\n",
       "        text-align: right;\n",
       "    }\n",
       "</style>\n",
       "<table border=\"1\" class=\"dataframe\">\n",
       "  <thead>\n",
       "    <tr style=\"text-align: right;\">\n",
       "      <th></th>\n",
       "      <th>CrimeId</th>\n",
       "      <th>OriginalCrimeTypeName</th>\n",
       "      <th>CallDateTime</th>\n",
       "      <th>Disposition</th>\n",
       "      <th>Address</th>\n",
       "      <th>City</th>\n",
       "      <th>State</th>\n",
       "      <th>AgencyId</th>\n",
       "      <th>AddressType</th>\n",
       "    </tr>\n",
       "  </thead>\n",
       "  <tbody>\n",
       "    <tr>\n",
       "      <th>4309</th>\n",
       "      <td>160933646</td>\n",
       "      <td>22500e</td>\n",
       "      <td>2016-04-02T22:07:00</td>\n",
       "      <td>CIT</td>\n",
       "      <td>1300 Block Of 15th Av</td>\n",
       "      <td>San Francisco</td>\n",
       "      <td>CA</td>\n",
       "      <td>1</td>\n",
       "      <td>Premise Address</td>\n",
       "    </tr>\n",
       "    <tr>\n",
       "      <th>48</th>\n",
       "      <td>160913813</td>\n",
       "      <td>415</td>\n",
       "      <td>2016-03-31T22:48:00</td>\n",
       "      <td>GOA</td>\n",
       "      <td>600 Block Of Dolores St</td>\n",
       "      <td>San Francisco</td>\n",
       "      <td>CA</td>\n",
       "      <td>1</td>\n",
       "      <td>Common Location</td>\n",
       "    </tr>\n",
       "    <tr>\n",
       "      <th>7413</th>\n",
       "      <td>160951123</td>\n",
       "      <td>Well Being Check</td>\n",
       "      <td>2016-04-04T10:03:00</td>\n",
       "      <td>GOA</td>\n",
       "      <td>Montgomery St/pine St</td>\n",
       "      <td>San Francisco</td>\n",
       "      <td>CA</td>\n",
       "      <td>1</td>\n",
       "      <td>Intersection</td>\n",
       "    </tr>\n",
       "  </tbody>\n",
       "</table>\n",
       "</div>"
      ],
      "text/plain": [
       "        CrimeId OriginalCrimeTypeName         CallDateTime Disposition  \\\n",
       "4309  160933646                22500e  2016-04-02T22:07:00         CIT   \n",
       "48    160913813                   415  2016-03-31T22:48:00         GOA   \n",
       "7413  160951123      Well Being Check  2016-04-04T10:03:00         GOA   \n",
       "\n",
       "                      Address           City State AgencyId      AddressType  \n",
       "4309    1300 Block Of 15th Av  San Francisco    CA        1  Premise Address  \n",
       "48    600 Block Of Dolores St  San Francisco    CA        1  Common Location  \n",
       "7413    Montgomery St/pine St  San Francisco    CA        1     Intersection  "
      ]
     },
     "execution_count": 10,
     "metadata": {},
     "output_type": "execute_result"
    }
   ],
   "source": [
    "'''Al determinar que existen 2 columnas que muestran información sobre fecha y hora; se determina mantener \"CallDateTime\"'''\n",
    "data = data.drop(['OffenseDate'], axis=1)\n",
    "data = data.drop(['CallTime'], axis=1)\n",
    "data.sample(3)"
   ]
  },
  {
   "cell_type": "markdown",
   "id": "1457571b",
   "metadata": {},
   "source": [
    "# Datos incoherentes"
   ]
  },
  {
   "cell_type": "markdown",
   "id": "de75adf6",
   "metadata": {},
   "source": [
    "### OriginalCrimeTypeName"
   ]
  },
  {
   "cell_type": "code",
   "execution_count": 11,
   "id": "0c239534",
   "metadata": {},
   "outputs": [
    {
     "data": {
      "text/plain": [
       "OriginalCrimeTypeName\n",
       "***901 Req***     1\n",
       "**Tazer**         1\n",
       "*909*             1\n",
       ".25/500e          2\n",
       ".52               1\n",
       "                 ..\n",
       "Wz               12\n",
       "X                17\n",
       "X 594             1\n",
       "Yelling           3\n",
       "`Drugs            1\n",
       "Length: 575, dtype: int64"
      ]
     },
     "execution_count": 11,
     "metadata": {},
     "output_type": "execute_result"
    }
   ],
   "source": [
    "'''En la columna de Disposition, se detalla 1 registro no coherente a la teoría del mismo'''\n",
    "data.groupby('OriginalCrimeTypeName').size()"
   ]
  },
  {
   "cell_type": "code",
   "execution_count": 12,
   "id": "4a6784ca",
   "metadata": {},
   "outputs": [],
   "source": [
    "'''Estandarizamos en OriginalCrimeTypeName'''\n",
    "data['OriginalCrimeTypeName'] = data['OriginalCrimeTypeName'].replace({'***901 Req***': '901 Req',\n",
    "                        '**Tazer**': 'Tazer',\n",
    "                        '*909*': '909',\n",
    "                        '.25/500e':'25/500e',\n",
    "                        '.52':'52',\n",
    "                        '`Drugs':'Drugs',\n",
    "                        'Fi**expedite**':'Fi expedite ',\n",
    "                        'Verbal':'Verbals',\n",
    "                        'Vendors':'Vendor',\n",
    "                        'Suspects':'Suspect',\n",
    "                        'Stattic':'Static',\n",
    "                        'Sleepers':'Sleeper',\n",
    "                        'Rept':'Report',\n",
    "                        'R.o. Violation':'R/o Violation',\n",
    "                        'Pay':'Pay Dispute',\n",
    "                        'Pay Dis':'Pay Dispute',\n",
    "                        'Pay Disp':'Pay Dispute',\n",
    "                        'Npa':'Npat',\n",
    "                        'Nabors':'Nabor',\n",
    "                        'Nabo':'Nabor',\n",
    "                        'Mal':'Male',\n",
    "                        'Mace':'Maced',\n",
    "                        'J/o':'Jo',\n",
    "                        'Jjp':'Jo',\n",
    "                        'H/r':'H&r',\n",
    "                        'Fire':'Fireworks',\n",
    "                        'Encampent':'Encampment',\n",
    "                        'Encampments':'Encampment',\n",
    "                        'Drp':'Drop',\n",
    "                        'Dp':'Drop',\n",
    "                        'Child':'Children',\n",
    "                        'Casers':'Caser',\n",
    "                        'Camp':'Camper',\n",
    "                        'Campers':'Camper',\n",
    "                        'Bart':'Bat',\n",
    "                        'Attempt':'Attemp',\n",
    "                        'Aggressive':'Agressive',\n",
    "                        'Aggressive 601':'Agressive',\n",
    "                        'X':'Other case',\n",
    "                        'X 594':'Other case',\n",
    "                        '100v':'Other case',\n",
    "                        '148':'Other case',\n",
    "                        '152':'Other case',\n",
    "                        '152 Jo':'Jo',\n",
    "                        'Wireless-H/u':'Other case',\n",
    "                        'Wreckless Driver':'Other case',\n",
    "                        'Wireless-Open':'Other case'})"
   ]
  },
  {
   "cell_type": "code",
   "execution_count": 24,
   "id": "2f70a39b",
   "metadata": {},
   "outputs": [
    {
     "data": {
      "text/plain": [
       "<AxesSubplot:title={'center':'Tipos de Crimenes'}>"
      ]
     },
     "execution_count": 24,
     "metadata": {},
     "output_type": "execute_result"
    },
    {
     "data": {
      "image/png": "[encoded data removed]",
      "text/plain": [
       "<Figure size 432x288 with 1 Axes>"
      ]
     },
     "metadata": {
      "needs_background": "light"
     },
     "output_type": "display_data"
    }
   ],
   "source": [
    "'''Se expresa que el 50% de las categorías de OriginalCrimeTypeName están basados en 9 altos casos y el restante en 42 casos diferentes'''\n",
    "data['OriginalCrimeTypeName'].value_counts().iloc[:30].sort_values().plot(kind=\"barh\", title = \"Tipos de Crimenes\")"
   ]
  },
  {
   "cell_type": "code",
   "execution_count": 14,
   "id": "55c752f4",
   "metadata": {},
   "outputs": [
    {
     "data": {
      "text/plain": [
       "Traffic Stop          1198\n",
       "Passing Call           871\n",
       "Suspicious Person      683\n",
       "Homeless Complaint     576\n",
       "22500e                 359\n",
       "                      ... \n",
       "Casing/852               1\n",
       "Poss 800                 1\n",
       "Tree Bark                1\n",
       "Poss 207                 1\n",
       "Adv To Co A              1\n",
       "Name: OriginalCrimeTypeName, Length: 535, dtype: int64"
      ]
     },
     "execution_count": 14,
     "metadata": {},
     "output_type": "execute_result"
    }
   ],
   "source": [
    "'''En la columna de Disposition, se detalla 1 registro no coherente a la teoría del mismo'''\n",
    "aux = data['OriginalCrimeTypeName']\n",
    "saux = pd.Series(aux)\n",
    "saux.value_counts()"
   ]
  },
  {
   "cell_type": "markdown",
   "id": "5376ecac",
   "metadata": {},
   "source": [
    "# Datos desubicados"
   ]
  },
  {
   "cell_type": "markdown",
   "id": "856a0f8f",
   "metadata": {},
   "source": [
    "### Disposition"
   ]
  },
  {
   "cell_type": "code",
   "execution_count": 15,
   "id": "a1c5b48d",
   "metadata": {},
   "outputs": [
    {
     "data": {
      "text/plain": [
       "Disposition\n",
       "22                77\n",
       "ABA               97\n",
       "ADM               46\n",
       "ADV             1129\n",
       "ARR               65\n",
       "CAN              353\n",
       "CIT             1406\n",
       "CRT                2\n",
       "GOA             1272\n",
       "HAN             2589\n",
       "INC               17\n",
       "NCR               82\n",
       "ND               423\n",
       "NOM              324\n",
       "Not recorded     496\n",
       "PAS              170\n",
       "REP              797\n",
       "SFD                1\n",
       "UTL              383\n",
       "dtype: int64"
      ]
     },
     "execution_count": 15,
     "metadata": {},
     "output_type": "execute_result"
    }
   ],
   "source": [
    "'''En la columna de Disposition, se detalla 1 registro no coherente a la teoría del mismo'''\n",
    "data.groupby('Disposition').size()"
   ]
  },
  {
   "cell_type": "code",
   "execution_count": 16,
   "id": "287b73eb",
   "metadata": {},
   "outputs": [
    {
     "data": {
      "text/plain": [
       "Disposition\n",
       "ABA      97\n",
       "ADM      46\n",
       "ADV    1129\n",
       "ARR      65\n",
       "CAN     353\n",
       "CIT    1406\n",
       "CRT       2\n",
       "GOA    1272\n",
       "HAN    2589\n",
       "INC      17\n",
       "NCR      82\n",
       "ND      423\n",
       "NOM     324\n",
       "NR      573\n",
       "PAS     170\n",
       "REP     797\n",
       "SFD       1\n",
       "UTL     383\n",
       "dtype: int64"
      ]
     },
     "execution_count": 16,
     "metadata": {},
     "output_type": "execute_result"
    }
   ],
   "source": [
    "'''Siendo Disposition el estado actual de un arresto 22 no encaja con los demas datos'''\n",
    "data['Disposition'] = data['Disposition'].replace('22','Not recorded')\n",
    "data['Disposition'] = data['Disposition'].replace('Not recorded','NR')\n",
    "data.groupby('Disposition').size()"
   ]
  },
  {
   "cell_type": "markdown",
   "id": "2ce86939",
   "metadata": {},
   "source": [
    "# Datos con jergas "
   ]
  },
  {
   "cell_type": "markdown",
   "id": "c3a3053f",
   "metadata": {},
   "source": [
    "### City"
   ]
  },
  {
   "cell_type": "code",
   "execution_count": 17,
   "id": "20842df3",
   "metadata": {},
   "outputs": [
    {
     "data": {
      "text/plain": [
       "City\n",
       "Brisbane            1\n",
       "Daly City           5\n",
       "Presidio            3\n",
       "SAN FRANCISCO       1\n",
       "San Francisco    9665\n",
       "Treasure Isla      51\n",
       "Yerba Buena         3\n",
       "dtype: int64"
      ]
     },
     "execution_count": 17,
     "metadata": {},
     "output_type": "execute_result"
    }
   ],
   "source": [
    "'''En la columna de City, se detalla 1 registro no coherente a la mayoria de su escritura'''\n",
    "data.groupby('City').size()"
   ]
  },
  {
   "cell_type": "code",
   "execution_count": 18,
   "id": "1ce2efb2",
   "metadata": {},
   "outputs": [
    {
     "data": {
      "text/plain": [
       "City\n",
       "Brisbane            1\n",
       "Daly City           5\n",
       "Presidio            3\n",
       "San Francisco    9669\n",
       "Treasure Isla      51\n",
       "dtype: int64"
      ]
     },
     "execution_count": 18,
     "metadata": {},
     "output_type": "execute_result"
    }
   ],
   "source": [
    "'''Aplicación de reemplazo en city'''\n",
    "data['City'] = data['City'].replace('SAN FRANCISCO','San Francisco')\n",
    "data['City'] = data['City'].replace('Yerba Buena','San Francisco')\n",
    "data.groupby('City').size()"
   ]
  },
  {
   "cell_type": "markdown",
   "id": "ab505a28",
   "metadata": {},
   "source": [
    "### AddressType"
   ]
  },
  {
   "cell_type": "code",
   "execution_count": 19,
   "id": "1cc0723f",
   "metadata": {},
   "outputs": [
    {
     "data": {
      "text/plain": [
       "AddressType\n",
       "Common Location     817\n",
       "Geo-Override        151\n",
       "Intersection       3701\n",
       "Intersectioon         1\n",
       "Premise Address    5059\n",
       "dtype: int64"
      ]
     },
     "execution_count": 19,
     "metadata": {},
     "output_type": "execute_result"
    }
   ],
   "source": [
    "'''En la columna de AddressType, se detalla 1 registro no coherente a la mayoria de su escritura'''\n",
    "data.groupby('AddressType').size()"
   ]
  },
  {
   "cell_type": "code",
   "execution_count": 20,
   "id": "71b7bbb6",
   "metadata": {},
   "outputs": [
    {
     "data": {
      "text/plain": [
       "AddressType\n",
       "Common Location     817\n",
       "Geo-Override        151\n",
       "Intersection       3702\n",
       "Premise Address    5059\n",
       "dtype: int64"
      ]
     },
     "execution_count": 20,
     "metadata": {},
     "output_type": "execute_result"
    }
   ],
   "source": [
    "'''Aplicación de reemplazo en AddressType'''\n",
    "data['AddressType'] = data['AddressType'].replace('Intersectioon','Intersection')\n",
    "data.groupby('AddressType').size()"
   ]
  },
  {
   "cell_type": "markdown",
   "id": "306b7ce7",
   "metadata": {},
   "source": [
    "# Datos a JSON"
   ]
  },
  {
   "cell_type": "code",
   "execution_count": 21,
   "id": "62688e80",
   "metadata": {},
   "outputs": [
    {
     "data": {
      "text/html": [
       "<div>\n",
       "<style scoped>\n",
       "    .dataframe tbody tr th:only-of-type {\n",
       "        vertical-align: middle;\n",
       "    }\n",
       "\n",
       "    .dataframe tbody tr th {\n",
       "        vertical-align: top;\n",
       "    }\n",
       "\n",
       "    .dataframe thead th {\n",
       "        text-align: right;\n",
       "    }\n",
       "</style>\n",
       "<table border=\"1\" class=\"dataframe\">\n",
       "  <thead>\n",
       "    <tr style=\"text-align: right;\">\n",
       "      <th></th>\n",
       "      <th>CrimeId</th>\n",
       "      <th>OriginalCrimeTypeName</th>\n",
       "      <th>CallDateTime</th>\n",
       "      <th>Disposition</th>\n",
       "      <th>Address</th>\n",
       "      <th>City</th>\n",
       "      <th>State</th>\n",
       "      <th>AgencyId</th>\n",
       "      <th>AddressType</th>\n",
       "    </tr>\n",
       "  </thead>\n",
       "  <tbody>\n",
       "    <tr>\n",
       "      <th>0</th>\n",
       "      <td>160903280</td>\n",
       "      <td>Assault / Battery</td>\n",
       "      <td>2016-03-30T18:42:00</td>\n",
       "      <td>REP</td>\n",
       "      <td>100 Block Of Chilton Av</td>\n",
       "      <td>San Francisco</td>\n",
       "      <td>CA</td>\n",
       "      <td>1</td>\n",
       "      <td>Premise Address</td>\n",
       "    </tr>\n",
       "    <tr>\n",
       "      <th>1</th>\n",
       "      <td>160912272</td>\n",
       "      <td>Homeless Complaint</td>\n",
       "      <td>2016-03-31T15:31:00</td>\n",
       "      <td>GOA</td>\n",
       "      <td>2300 Block Of Market St</td>\n",
       "      <td>San Francisco</td>\n",
       "      <td>CA</td>\n",
       "      <td>1</td>\n",
       "      <td>Premise Address</td>\n",
       "    </tr>\n",
       "    <tr>\n",
       "      <th>2</th>\n",
       "      <td>160912590</td>\n",
       "      <td>Susp Info</td>\n",
       "      <td>2016-03-31T16:49:00</td>\n",
       "      <td>GOA</td>\n",
       "      <td>2300 Block Of Market St</td>\n",
       "      <td>San Francisco</td>\n",
       "      <td>CA</td>\n",
       "      <td>1</td>\n",
       "      <td>Premise Address</td>\n",
       "    </tr>\n",
       "    <tr>\n",
       "      <th>3</th>\n",
       "      <td>160912801</td>\n",
       "      <td>Report</td>\n",
       "      <td>2016-03-31T17:38:00</td>\n",
       "      <td>GOA</td>\n",
       "      <td>500 Block Of 7th St</td>\n",
       "      <td>San Francisco</td>\n",
       "      <td>CA</td>\n",
       "      <td>1</td>\n",
       "      <td>Premise Address</td>\n",
       "    </tr>\n",
       "    <tr>\n",
       "      <th>4</th>\n",
       "      <td>160912811</td>\n",
       "      <td>594</td>\n",
       "      <td>2016-03-31T17:42:00</td>\n",
       "      <td>REP</td>\n",
       "      <td>Beale St/bryant St</td>\n",
       "      <td>San Francisco</td>\n",
       "      <td>CA</td>\n",
       "      <td>1</td>\n",
       "      <td>Intersection</td>\n",
       "    </tr>\n",
       "    <tr>\n",
       "      <th>...</th>\n",
       "      <td>...</td>\n",
       "      <td>...</td>\n",
       "      <td>...</td>\n",
       "      <td>...</td>\n",
       "      <td>...</td>\n",
       "      <td>...</td>\n",
       "      <td>...</td>\n",
       "      <td>...</td>\n",
       "      <td>...</td>\n",
       "    </tr>\n",
       "    <tr>\n",
       "      <th>9724</th>\n",
       "      <td>160964210</td>\n",
       "      <td>Well Being Check</td>\n",
       "      <td>2016-04-05T23:38:00</td>\n",
       "      <td>GOA</td>\n",
       "      <td>Hollister Av/hawes St</td>\n",
       "      <td>San Francisco</td>\n",
       "      <td>CA</td>\n",
       "      <td>1</td>\n",
       "      <td>Intersection</td>\n",
       "    </tr>\n",
       "    <tr>\n",
       "      <th>9725</th>\n",
       "      <td>160964216</td>\n",
       "      <td>Traffic Stop</td>\n",
       "      <td>2016-04-05T23:43:00</td>\n",
       "      <td>ADV</td>\n",
       "      <td>California St/mason St</td>\n",
       "      <td>San Francisco</td>\n",
       "      <td>CA</td>\n",
       "      <td>1</td>\n",
       "      <td>Intersection</td>\n",
       "    </tr>\n",
       "    <tr>\n",
       "      <th>9726</th>\n",
       "      <td>160964227</td>\n",
       "      <td>Traffic Stop</td>\n",
       "      <td>2016-04-05T23:48:00</td>\n",
       "      <td>CIT</td>\n",
       "      <td>Rosella Ct/onondaga Av</td>\n",
       "      <td>San Francisco</td>\n",
       "      <td>CA</td>\n",
       "      <td>1</td>\n",
       "      <td>Intersection</td>\n",
       "    </tr>\n",
       "    <tr>\n",
       "      <th>9727</th>\n",
       "      <td>160964229</td>\n",
       "      <td>Passing Call</td>\n",
       "      <td>2016-04-05T23:48:00</td>\n",
       "      <td>NR</td>\n",
       "      <td>0 Blk Herbst Rd</td>\n",
       "      <td>San Francisco</td>\n",
       "      <td>CA</td>\n",
       "      <td>1</td>\n",
       "      <td>Geo-Override</td>\n",
       "    </tr>\n",
       "    <tr>\n",
       "      <th>9728</th>\n",
       "      <td>160964249</td>\n",
       "      <td>Traffic Stop</td>\n",
       "      <td>2016-04-05T23:54:00</td>\n",
       "      <td>ADV</td>\n",
       "      <td>Grant Av/geary St</td>\n",
       "      <td>San Francisco</td>\n",
       "      <td>CA</td>\n",
       "      <td>1</td>\n",
       "      <td>Intersection</td>\n",
       "    </tr>\n",
       "  </tbody>\n",
       "</table>\n",
       "<p>9729 rows × 9 columns</p>\n",
       "</div>"
      ],
      "text/plain": [
       "        CrimeId OriginalCrimeTypeName         CallDateTime Disposition  \\\n",
       "0     160903280     Assault / Battery  2016-03-30T18:42:00         REP   \n",
       "1     160912272    Homeless Complaint  2016-03-31T15:31:00         GOA   \n",
       "2     160912590             Susp Info  2016-03-31T16:49:00         GOA   \n",
       "3     160912801                Report  2016-03-31T17:38:00         GOA   \n",
       "4     160912811                   594  2016-03-31T17:42:00         REP   \n",
       "...         ...                   ...                  ...         ...   \n",
       "9724  160964210      Well Being Check  2016-04-05T23:38:00         GOA   \n",
       "9725  160964216          Traffic Stop  2016-04-05T23:43:00         ADV   \n",
       "9726  160964227          Traffic Stop  2016-04-05T23:48:00         CIT   \n",
       "9727  160964229          Passing Call  2016-04-05T23:48:00          NR   \n",
       "9728  160964249          Traffic Stop  2016-04-05T23:54:00         ADV   \n",
       "\n",
       "                      Address           City State  AgencyId      AddressType  \n",
       "0     100 Block Of Chilton Av  San Francisco    CA         1  Premise Address  \n",
       "1     2300 Block Of Market St  San Francisco    CA         1  Premise Address  \n",
       "2     2300 Block Of Market St  San Francisco    CA         1  Premise Address  \n",
       "3         500 Block Of 7th St  San Francisco    CA         1  Premise Address  \n",
       "4          Beale St/bryant St  San Francisco    CA         1     Intersection  \n",
       "...                       ...            ...   ...       ...              ...  \n",
       "9724    Hollister Av/hawes St  San Francisco    CA         1     Intersection  \n",
       "9725   California St/mason St  San Francisco    CA         1     Intersection  \n",
       "9726   Rosella Ct/onondaga Av  San Francisco    CA         1     Intersection  \n",
       "9727          0 Blk Herbst Rd  San Francisco    CA         1     Geo-Override  \n",
       "9728        Grant Av/geary St  San Francisco    CA         1     Intersection  \n",
       "\n",
       "[9729 rows x 9 columns]"
      ]
     },
     "execution_count": 21,
     "metadata": {},
     "output_type": "execute_result"
    }
   ],
   "source": [
    "'''Exportación de datos a csv'''\n",
    "data.to_csv('data_cleaning.csv', sep=',', index=False, header=True)\n",
    "'''Exportación de datos a json'''\n",
    "data.to_json('data_cleaning.json', orient='records', lines=True)\n",
    "'''Lectura de JSON'''\n",
    "data_json = pd.read_json(\"data_cleaning.json\", orient='records', lines=True)\n",
    "data_json"
   ]
  },
  {
   "cell_type": "code",
   "execution_count": null,
   "id": "0a1904ed",
   "metadata": {},
   "outputs": [],
   "source": []
  }
 ],
 "metadata": {
  "kernelspec": {
   "display_name": "Python 3 (ipykernel)",
   "language": "python",
   "name": "python3"
  },
  "language_info": {
   "codemirror_mode": {
    "name": "ipython",
    "version": 3
   },
   "file_extension": ".py",
   "mimetype": "text/x-python",
   "name": "python",
   "nbconvert_exporter": "python",
   "pygments_lexer": "ipython3",
   "version": "3.9.12"
  }
 },
 "nbformat": 4,
 "nbformat_minor": 5
}
