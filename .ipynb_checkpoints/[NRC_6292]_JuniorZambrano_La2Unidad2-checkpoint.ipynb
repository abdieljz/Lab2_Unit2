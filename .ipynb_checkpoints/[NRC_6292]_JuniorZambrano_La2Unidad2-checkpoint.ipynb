{
 "cells": [
  {
   "cell_type": "code",
   "execution_count": 1,
   "id": "2c3604e0",
   "metadata": {},
   "outputs": [],
   "source": [
    "'''librerias a usar'''\n",
    "import pandas as pd\n",
    "import numpy as np\n",
    "import matplotlib.pyplot as plt\n",
    "%matplotlib inline"
   ]
  },
  {
   "cell_type": "code",
   "execution_count": 2,
   "id": "e1ff1c71",
   "metadata": {
    "scrolled": true
   },
   "outputs": [
    {
     "data": {
      "text/html": [
       "<div>\n",
       "<style scoped>\n",
       "    .dataframe tbody tr th:only-of-type {\n",
       "        vertical-align: middle;\n",
       "    }\n",
       "\n",
       "    .dataframe tbody tr th {\n",
       "        vertical-align: top;\n",
       "    }\n",
       "\n",
       "    .dataframe thead th {\n",
       "        text-align: right;\n",
       "    }\n",
       "</style>\n",
       "<table border=\"1\" class=\"dataframe\">\n",
       "  <thead>\n",
       "    <tr style=\"text-align: right;\">\n",
       "      <th></th>\n",
       "      <th>CrimeId</th>\n",
       "      <th>OriginalCrimeTypeName</th>\n",
       "      <th>OffenseDate</th>\n",
       "      <th>CallTime</th>\n",
       "      <th>CallDateTime</th>\n",
       "      <th>Disposition</th>\n",
       "      <th>Address</th>\n",
       "      <th>City</th>\n",
       "      <th>State</th>\n",
       "      <th>AgencyId</th>\n",
       "      <th>Range</th>\n",
       "      <th>AddressType</th>\n",
       "    </tr>\n",
       "  </thead>\n",
       "  <tbody>\n",
       "    <tr>\n",
       "      <th>7814</th>\n",
       "      <td>160951885</td>\n",
       "      <td>Assault / Battery Dv</td>\n",
       "      <td>2016-04-04T00:00:00</td>\n",
       "      <td>13:13</td>\n",
       "      <td>2016-04-04T13:13:00</td>\n",
       "      <td>ABA</td>\n",
       "      <td>0 Block Of 12th St</td>\n",
       "      <td>San Francisco</td>\n",
       "      <td>CA</td>\n",
       "      <td>1</td>\n",
       "      <td>NaN</td>\n",
       "      <td>Premise Address</td>\n",
       "    </tr>\n",
       "    <tr>\n",
       "      <th>7163</th>\n",
       "      <td>160950693</td>\n",
       "      <td>Passing Call</td>\n",
       "      <td>2016-04-04T00:00:00</td>\n",
       "      <td>8:13</td>\n",
       "      <td>2016-04-04T08:13:00</td>\n",
       "      <td>HAN</td>\n",
       "      <td>Bay St/columbus Av</td>\n",
       "      <td>San Francisco</td>\n",
       "      <td>CA</td>\n",
       "      <td>1</td>\n",
       "      <td>NaN</td>\n",
       "      <td>Intersection</td>\n",
       "    </tr>\n",
       "    <tr>\n",
       "      <th>9983</th>\n",
       "      <td>160963935</td>\n",
       "      <td>Traffic Stop</td>\n",
       "      <td>2016-04-05T00:00:00</td>\n",
       "      <td>22:02</td>\n",
       "      <td>2016-04-05T22:02:00</td>\n",
       "      <td>CIT</td>\n",
       "      <td>26th Av/ulloa St</td>\n",
       "      <td>San Francisco</td>\n",
       "      <td>CA</td>\n",
       "      <td>1</td>\n",
       "      <td>NaN</td>\n",
       "      <td>Intersection</td>\n",
       "    </tr>\n",
       "  </tbody>\n",
       "</table>\n",
       "</div>"
      ],
      "text/plain": [
       "        CrimeId OriginalCrimeTypeName          OffenseDate CallTime  \\\n",
       "7814  160951885  Assault / Battery Dv  2016-04-04T00:00:00    13:13   \n",
       "7163  160950693          Passing Call  2016-04-04T00:00:00     8:13   \n",
       "9983  160963935          Traffic Stop  2016-04-05T00:00:00    22:02   \n",
       "\n",
       "             CallDateTime Disposition             Address           City  \\\n",
       "7814  2016-04-04T13:13:00         ABA  0 Block Of 12th St  San Francisco   \n",
       "7163  2016-04-04T08:13:00         HAN  Bay St/columbus Av  San Francisco   \n",
       "9983  2016-04-05T22:02:00         CIT    26th Av/ulloa St  San Francisco   \n",
       "\n",
       "     State AgencyId  Range      AddressType  \n",
       "7814    CA        1    NaN  Premise Address  \n",
       "7163    CA        1    NaN     Intersection  \n",
       "9983    CA        1    NaN     Intersection  "
      ]
     },
     "execution_count": 2,
     "metadata": {},
     "output_type": "execute_result"
    }
   ],
   "source": [
    "'''Importacion del data set'''\n",
    "data = pd.read_csv('data_act_01.csv', sep=';')\n",
    "'''Impresión del csv'''\n",
    "data.sample(3)"
   ]
  },
  {
   "cell_type": "code",
   "execution_count": 3,
   "id": "1615a98f",
   "metadata": {},
   "outputs": [
    {
     "name": "stdout",
     "output_type": "stream",
     "text": [
      "<class 'pandas.core.frame.DataFrame'>\n",
      "RangeIndex: 10051 entries, 0 to 10050\n",
      "Data columns (total 12 columns):\n",
      " #   Column                 Non-Null Count  Dtype  \n",
      "---  ------                 --------------  -----  \n",
      " 0   CrimeId                10051 non-null  int64  \n",
      " 1   OriginalCrimeTypeName  10051 non-null  object \n",
      " 2   OffenseDate            10051 non-null  object \n",
      " 3   CallTime               10051 non-null  object \n",
      " 4   CallDateTime           10051 non-null  object \n",
      " 5   Disposition            10051 non-null  object \n",
      " 6   Address                10051 non-null  object \n",
      " 7   City                   9730 non-null   object \n",
      " 8   State                  10048 non-null  object \n",
      " 9   AgencyId               10051 non-null  object \n",
      " 10  Range                  0 non-null      float64\n",
      " 11  AddressType            10051 non-null  object \n",
      "dtypes: float64(1), int64(1), object(10)\n",
      "memory usage: 942.4+ KB\n"
     ]
    }
   ],
   "source": [
    "'''Información Global de los datos'''\n",
    "data.info()"
   ]
  },
  {
   "cell_type": "markdown",
   "id": "81329a45",
   "metadata": {},
   "source": [
    "# DATOS NULL"
   ]
  },
  {
   "cell_type": "code",
   "execution_count": 4,
   "id": "c744fe03",
   "metadata": {},
   "outputs": [
    {
     "data": {
      "text/plain": [
       "CrimeId                      0\n",
       "OriginalCrimeTypeName        0\n",
       "OffenseDate                  0\n",
       "CallTime                     0\n",
       "CallDateTime                 0\n",
       "Disposition                  0\n",
       "Address                      0\n",
       "City                       321\n",
       "State                        3\n",
       "AgencyId                     0\n",
       "Range                    10051\n",
       "AddressType                  0\n",
       "dtype: int64"
      ]
     },
     "execution_count": 4,
     "metadata": {},
     "output_type": "execute_result"
    }
   ],
   "source": [
    "'''Conteo general de datos null'''\n",
    "data.isnull().sum()"
   ]
  },
  {
   "cell_type": "code",
   "execution_count": 5,
   "id": "c5338608",
   "metadata": {},
   "outputs": [
    {
     "data": {
      "text/html": [
       "<div>\n",
       "<style scoped>\n",
       "    .dataframe tbody tr th:only-of-type {\n",
       "        vertical-align: middle;\n",
       "    }\n",
       "\n",
       "    .dataframe tbody tr th {\n",
       "        vertical-align: top;\n",
       "    }\n",
       "\n",
       "    .dataframe thead th {\n",
       "        text-align: right;\n",
       "    }\n",
       "</style>\n",
       "<table border=\"1\" class=\"dataframe\">\n",
       "  <thead>\n",
       "    <tr style=\"text-align: right;\">\n",
       "      <th></th>\n",
       "      <th>CrimeId</th>\n",
       "      <th>OriginalCrimeTypeName</th>\n",
       "      <th>OffenseDate</th>\n",
       "      <th>CallTime</th>\n",
       "      <th>CallDateTime</th>\n",
       "      <th>Disposition</th>\n",
       "      <th>Address</th>\n",
       "      <th>City</th>\n",
       "      <th>State</th>\n",
       "      <th>AgencyId</th>\n",
       "      <th>AddressType</th>\n",
       "    </tr>\n",
       "  </thead>\n",
       "  <tbody>\n",
       "    <tr>\n",
       "      <th>9088</th>\n",
       "      <td>160960265</td>\n",
       "      <td>Suspicious Person</td>\n",
       "      <td>2016-04-05T00:00:00</td>\n",
       "      <td>3:17</td>\n",
       "      <td>2016-04-05T03:17:00</td>\n",
       "      <td>ADV</td>\n",
       "      <td>Howard St/9th St</td>\n",
       "      <td>San Francisco</td>\n",
       "      <td>CA</td>\n",
       "      <td>1</td>\n",
       "      <td>Intersection</td>\n",
       "    </tr>\n",
       "    <tr>\n",
       "      <th>4862</th>\n",
       "      <td>160940510</td>\n",
       "      <td>Meet W/citizen</td>\n",
       "      <td>2016-04-03T00:00:00</td>\n",
       "      <td>3:21</td>\n",
       "      <td>2016-04-03T03:21:00</td>\n",
       "      <td>ADV</td>\n",
       "      <td>2300 Block Of Market St</td>\n",
       "      <td>San Francisco</td>\n",
       "      <td>CA</td>\n",
       "      <td>1</td>\n",
       "      <td>Premise Address</td>\n",
       "    </tr>\n",
       "    <tr>\n",
       "      <th>464</th>\n",
       "      <td>160920639</td>\n",
       "      <td>Sleeper</td>\n",
       "      <td>2016-04-01T00:00:00</td>\n",
       "      <td>7:36</td>\n",
       "      <td>2016-04-01T07:36:00</td>\n",
       "      <td>HAN</td>\n",
       "      <td>200 Block Of Pine St</td>\n",
       "      <td>San Francisco</td>\n",
       "      <td>CA</td>\n",
       "      <td>1</td>\n",
       "      <td>Premise Address</td>\n",
       "    </tr>\n",
       "  </tbody>\n",
       "</table>\n",
       "</div>"
      ],
      "text/plain": [
       "        CrimeId OriginalCrimeTypeName          OffenseDate CallTime  \\\n",
       "9088  160960265     Suspicious Person  2016-04-05T00:00:00     3:17   \n",
       "4862  160940510        Meet W/citizen  2016-04-03T00:00:00     3:21   \n",
       "464   160920639               Sleeper  2016-04-01T00:00:00     7:36   \n",
       "\n",
       "             CallDateTime Disposition                  Address           City  \\\n",
       "9088  2016-04-05T03:17:00         ADV         Howard St/9th St  San Francisco   \n",
       "4862  2016-04-03T03:21:00         ADV  2300 Block Of Market St  San Francisco   \n",
       "464   2016-04-01T07:36:00         HAN     200 Block Of Pine St  San Francisco   \n",
       "\n",
       "     State AgencyId      AddressType  \n",
       "9088    CA        1     Intersection  \n",
       "4862    CA        1  Premise Address  \n",
       "464     CA        1  Premise Address  "
      ]
     },
     "execution_count": 5,
     "metadata": {},
     "output_type": "execute_result"
    }
   ],
   "source": [
    "'''El determinar que la columna Range posee 10051 datos null y la muestra es de 10051 datos, se procede a eliminarla toda'''\n",
    "data = data.drop(['Range'], axis=1)\n",
    "data.sample(3)"
   ]
  },
  {
   "cell_type": "code",
   "execution_count": 6,
   "id": "46ef167b",
   "metadata": {},
   "outputs": [
    {
     "data": {
      "text/html": [
       "<div>\n",
       "<style scoped>\n",
       "    .dataframe tbody tr th:only-of-type {\n",
       "        vertical-align: middle;\n",
       "    }\n",
       "\n",
       "    .dataframe tbody tr th {\n",
       "        vertical-align: top;\n",
       "    }\n",
       "\n",
       "    .dataframe thead th {\n",
       "        text-align: right;\n",
       "    }\n",
       "</style>\n",
       "<table border=\"1\" class=\"dataframe\">\n",
       "  <thead>\n",
       "    <tr style=\"text-align: right;\">\n",
       "      <th></th>\n",
       "      <th>CrimeId</th>\n",
       "      <th>OriginalCrimeTypeName</th>\n",
       "      <th>OffenseDate</th>\n",
       "      <th>CallTime</th>\n",
       "      <th>CallDateTime</th>\n",
       "      <th>Disposition</th>\n",
       "      <th>Address</th>\n",
       "      <th>City</th>\n",
       "      <th>State</th>\n",
       "      <th>AgencyId</th>\n",
       "      <th>AddressType</th>\n",
       "    </tr>\n",
       "  </thead>\n",
       "  <tbody>\n",
       "    <tr>\n",
       "      <th>3864</th>\n",
       "      <td>160932754</td>\n",
       "      <td>Suspicious Vehicle</td>\n",
       "      <td>2016-04-02T00:00:00</td>\n",
       "      <td>17:45</td>\n",
       "      <td>2016-04-02T17:45:00</td>\n",
       "      <td>GOA</td>\n",
       "      <td>100 Block Of John F Shelley Dr</td>\n",
       "      <td>San Francisco</td>\n",
       "      <td>CA</td>\n",
       "      <td>1</td>\n",
       "      <td>Common Location</td>\n",
       "    </tr>\n",
       "    <tr>\n",
       "      <th>3443</th>\n",
       "      <td>160931985</td>\n",
       "      <td>Homeless Complaint</td>\n",
       "      <td>2016-04-02T00:00:00</td>\n",
       "      <td>14:16</td>\n",
       "      <td>2016-04-02T14:16:00</td>\n",
       "      <td>ADV</td>\n",
       "      <td>3300 Block Of Cesar Chavez St</td>\n",
       "      <td>San Francisco</td>\n",
       "      <td>CA</td>\n",
       "      <td>1</td>\n",
       "      <td>Premise Address</td>\n",
       "    </tr>\n",
       "    <tr>\n",
       "      <th>1415</th>\n",
       "      <td>160922501</td>\n",
       "      <td>22500e</td>\n",
       "      <td>2016-04-01T00:00:00</td>\n",
       "      <td>16:32</td>\n",
       "      <td>2016-04-01T16:32:00</td>\n",
       "      <td>HAN</td>\n",
       "      <td>800 Block Of Monterey Bl</td>\n",
       "      <td>San Francisco</td>\n",
       "      <td>CA</td>\n",
       "      <td>1</td>\n",
       "      <td>Premise Address</td>\n",
       "    </tr>\n",
       "  </tbody>\n",
       "</table>\n",
       "</div>"
      ],
      "text/plain": [
       "        CrimeId OriginalCrimeTypeName          OffenseDate CallTime  \\\n",
       "3864  160932754    Suspicious Vehicle  2016-04-02T00:00:00    17:45   \n",
       "3443  160931985    Homeless Complaint  2016-04-02T00:00:00    14:16   \n",
       "1415  160922501                22500e  2016-04-01T00:00:00    16:32   \n",
       "\n",
       "             CallDateTime Disposition                         Address  \\\n",
       "3864  2016-04-02T17:45:00         GOA  100 Block Of John F Shelley Dr   \n",
       "3443  2016-04-02T14:16:00         ADV   3300 Block Of Cesar Chavez St   \n",
       "1415  2016-04-01T16:32:00         HAN        800 Block Of Monterey Bl   \n",
       "\n",
       "               City State AgencyId      AddressType  \n",
       "3864  San Francisco    CA        1  Common Location  \n",
       "3443  San Francisco    CA        1  Premise Address  \n",
       "1415  San Francisco    CA        1  Premise Address  "
      ]
     },
     "execution_count": 6,
     "metadata": {},
     "output_type": "execute_result"
    }
   ],
   "source": [
    "'''Trabajar solo con datos que no contengan NULL'''\n",
    "data = data.dropna()\n",
    "data.sample(3)"
   ]
  },
  {
   "cell_type": "code",
   "execution_count": 7,
   "id": "f494a50f",
   "metadata": {},
   "outputs": [
    {
     "data": {
      "text/plain": [
       "CrimeId                  0\n",
       "OriginalCrimeTypeName    0\n",
       "OffenseDate              0\n",
       "CallTime                 0\n",
       "CallDateTime             0\n",
       "Disposition              0\n",
       "Address                  0\n",
       "City                     0\n",
       "State                    0\n",
       "AgencyId                 0\n",
       "AddressType              0\n",
       "dtype: int64"
      ]
     },
     "execution_count": 7,
     "metadata": {},
     "output_type": "execute_result"
    }
   ],
   "source": [
    "'''Comprobación que no existen null'''\n",
    "data.isnull().sum()"
   ]
  },
  {
   "cell_type": "markdown",
   "id": "70686446",
   "metadata": {},
   "source": [
    "# DATOS DUPLICADOS"
   ]
  },
  {
   "cell_type": "code",
   "execution_count": 8,
   "id": "d450e8cb",
   "metadata": {},
   "outputs": [
    {
     "data": {
      "text/plain": [
       "160950496    3\n",
       "160913455    3\n",
       "160943709    1\n",
       "160943698    1\n",
       "160943699    1\n",
       "            ..\n",
       "160931810    1\n",
       "160931811    1\n",
       "160931812    1\n",
       "160931813    1\n",
       "160964249    1\n",
       "Name: CrimeId, Length: 9725, dtype: int64"
      ]
     },
     "execution_count": 8,
     "metadata": {},
     "output_type": "execute_result"
    }
   ],
   "source": [
    "'''Determinar en la sección CrimeId, si existen duplicados, dado que es un Id unico, no debería'''\n",
    "aux = data['CrimeId']\n",
    "saux = pd.Series(aux)\n",
    "saux.value_counts()"
   ]
  },
  {
   "cell_type": "code",
   "execution_count": 9,
   "id": "e996109d",
   "metadata": {},
   "outputs": [
    {
     "data": {
      "text/html": [
       "<div>\n",
       "<style scoped>\n",
       "    .dataframe tbody tr th:only-of-type {\n",
       "        vertical-align: middle;\n",
       "    }\n",
       "\n",
       "    .dataframe tbody tr th {\n",
       "        vertical-align: top;\n",
       "    }\n",
       "\n",
       "    .dataframe thead th {\n",
       "        text-align: right;\n",
       "    }\n",
       "</style>\n",
       "<table border=\"1\" class=\"dataframe\">\n",
       "  <thead>\n",
       "    <tr style=\"text-align: right;\">\n",
       "      <th></th>\n",
       "      <th>CrimeId</th>\n",
       "      <th>OriginalCrimeTypeName</th>\n",
       "      <th>OffenseDate</th>\n",
       "      <th>CallTime</th>\n",
       "      <th>CallDateTime</th>\n",
       "      <th>Disposition</th>\n",
       "      <th>Address</th>\n",
       "      <th>City</th>\n",
       "      <th>State</th>\n",
       "      <th>AgencyId</th>\n",
       "      <th>AddressType</th>\n",
       "    </tr>\n",
       "  </thead>\n",
       "  <tbody>\n",
       "    <tr>\n",
       "      <th>8304</th>\n",
       "      <td>160952806</td>\n",
       "      <td>Ro Violation</td>\n",
       "      <td>2016-04-04T00:00:00</td>\n",
       "      <td>16:48</td>\n",
       "      <td>2016-04-04T16:48:00</td>\n",
       "      <td>UTL</td>\n",
       "      <td>700 Block Of Natoma St</td>\n",
       "      <td>San Francisco</td>\n",
       "      <td>CA</td>\n",
       "      <td>1</td>\n",
       "      <td>Premise Address</td>\n",
       "    </tr>\n",
       "    <tr>\n",
       "      <th>5523</th>\n",
       "      <td>160941674</td>\n",
       "      <td>Rept</td>\n",
       "      <td>2016-04-03T00:00:00</td>\n",
       "      <td>12:17</td>\n",
       "      <td>2016-04-03T12:17:00</td>\n",
       "      <td>REP</td>\n",
       "      <td>100 Block Of Hawthorne St</td>\n",
       "      <td>San Francisco</td>\n",
       "      <td>CA</td>\n",
       "      <td>1</td>\n",
       "      <td>Premise Address</td>\n",
       "    </tr>\n",
       "    <tr>\n",
       "      <th>8894</th>\n",
       "      <td>160953912</td>\n",
       "      <td>917</td>\n",
       "      <td>2016-04-04T00:00:00</td>\n",
       "      <td>22:10</td>\n",
       "      <td>2016-04-04T22:10:00</td>\n",
       "      <td>GOA</td>\n",
       "      <td>100 Block Of Bartlett St</td>\n",
       "      <td>San Francisco</td>\n",
       "      <td>CA</td>\n",
       "      <td>1</td>\n",
       "      <td>Premise Address</td>\n",
       "    </tr>\n",
       "  </tbody>\n",
       "</table>\n",
       "</div>"
      ],
      "text/plain": [
       "        CrimeId OriginalCrimeTypeName          OffenseDate CallTime  \\\n",
       "8304  160952806          Ro Violation  2016-04-04T00:00:00    16:48   \n",
       "5523  160941674                  Rept  2016-04-03T00:00:00    12:17   \n",
       "8894  160953912                   917  2016-04-04T00:00:00    22:10   \n",
       "\n",
       "             CallDateTime Disposition                    Address  \\\n",
       "8304  2016-04-04T16:48:00         UTL     700 Block Of Natoma St   \n",
       "5523  2016-04-03T12:17:00         REP  100 Block Of Hawthorne St   \n",
       "8894  2016-04-04T22:10:00         GOA   100 Block Of Bartlett St   \n",
       "\n",
       "               City State AgencyId      AddressType  \n",
       "8304  San Francisco    CA        1  Premise Address  \n",
       "5523  San Francisco    CA        1  Premise Address  \n",
       "8894  San Francisco    CA        1  Premise Address  "
      ]
     },
     "execution_count": 9,
     "metadata": {},
     "output_type": "execute_result"
    }
   ],
   "source": [
    "'''Al comprobar que si existen registro duplicados, se eliminan.'''\n",
    "data['CrimeId'].duplicated().sum()\n",
    "data.drop_duplicates(inplace=True)\n",
    "data.sample(3)"
   ]
  },
  {
   "cell_type": "markdown",
   "id": "998de8f8",
   "metadata": {},
   "source": [
    "# Datos redundante"
   ]
  },
  {
   "cell_type": "code",
   "execution_count": 10,
   "id": "95500810",
   "metadata": {},
   "outputs": [
    {
     "data": {
      "text/html": [
       "<div>\n",
       "<style scoped>\n",
       "    .dataframe tbody tr th:only-of-type {\n",
       "        vertical-align: middle;\n",
       "    }\n",
       "\n",
       "    .dataframe tbody tr th {\n",
       "        vertical-align: top;\n",
       "    }\n",
       "\n",
       "    .dataframe thead th {\n",
       "        text-align: right;\n",
       "    }\n",
       "</style>\n",
       "<table border=\"1\" class=\"dataframe\">\n",
       "  <thead>\n",
       "    <tr style=\"text-align: right;\">\n",
       "      <th></th>\n",
       "      <th>CrimeId</th>\n",
       "      <th>OriginalCrimeTypeName</th>\n",
       "      <th>CallDateTime</th>\n",
       "      <th>Disposition</th>\n",
       "      <th>Address</th>\n",
       "      <th>City</th>\n",
       "      <th>State</th>\n",
       "      <th>AgencyId</th>\n",
       "      <th>AddressType</th>\n",
       "    </tr>\n",
       "  </thead>\n",
       "  <tbody>\n",
       "    <tr>\n",
       "      <th>1720</th>\n",
       "      <td>160923034</td>\n",
       "      <td>Meet W/citizen</td>\n",
       "      <td>2016-04-01T18:36:00</td>\n",
       "      <td>HAN</td>\n",
       "      <td>0 Block Of Brookdale Av</td>\n",
       "      <td>San Francisco</td>\n",
       "      <td>CA</td>\n",
       "      <td>1</td>\n",
       "      <td>Premise Address</td>\n",
       "    </tr>\n",
       "    <tr>\n",
       "      <th>7651</th>\n",
       "      <td>160951575</td>\n",
       "      <td>Passing Call</td>\n",
       "      <td>2016-04-04T12:01:00</td>\n",
       "      <td>HAN</td>\n",
       "      <td>500 Block Of Felton St</td>\n",
       "      <td>San Francisco</td>\n",
       "      <td>CA</td>\n",
       "      <td>1</td>\n",
       "      <td>Premise Address</td>\n",
       "    </tr>\n",
       "    <tr>\n",
       "      <th>1138</th>\n",
       "      <td>160921978</td>\n",
       "      <td>905/muni</td>\n",
       "      <td>2016-04-01T14:13:00</td>\n",
       "      <td>ADM</td>\n",
       "      <td>Persia Av/moscow St</td>\n",
       "      <td>San Francisco</td>\n",
       "      <td>CA</td>\n",
       "      <td>1</td>\n",
       "      <td>Intersection</td>\n",
       "    </tr>\n",
       "  </tbody>\n",
       "</table>\n",
       "</div>"
      ],
      "text/plain": [
       "        CrimeId OriginalCrimeTypeName         CallDateTime Disposition  \\\n",
       "1720  160923034        Meet W/citizen  2016-04-01T18:36:00         HAN   \n",
       "7651  160951575          Passing Call  2016-04-04T12:01:00         HAN   \n",
       "1138  160921978              905/muni  2016-04-01T14:13:00         ADM   \n",
       "\n",
       "                      Address           City State AgencyId      AddressType  \n",
       "1720  0 Block Of Brookdale Av  San Francisco    CA        1  Premise Address  \n",
       "7651   500 Block Of Felton St  San Francisco    CA        1  Premise Address  \n",
       "1138      Persia Av/moscow St  San Francisco    CA        1     Intersection  "
      ]
     },
     "execution_count": 10,
     "metadata": {},
     "output_type": "execute_result"
    }
   ],
   "source": [
    "'''Al determinar que existen 2 columnas que muestran información sobre fecha y hora; se determina mantener \"CallDateTime\"'''\n",
    "data = data.drop(['OffenseDate'], axis=1)\n",
    "data = data.drop(['CallTime'], axis=1)\n",
    "data.sample(3)"
   ]
  },
  {
   "cell_type": "markdown",
   "id": "70ec4a3a",
   "metadata": {},
   "source": [
    "# Datos incoherentes"
   ]
  },
  {
   "cell_type": "code",
   "execution_count": 11,
   "id": "7aaf3f84",
   "metadata": {},
   "outputs": [
    {
     "data": {
      "text/plain": [
       "OriginalCrimeTypeName\n",
       "***901 Req***     1\n",
       "**Tazer**         1\n",
       "*909*             1\n",
       ".25/500e          2\n",
       ".52               1\n",
       "                 ..\n",
       "Wz               12\n",
       "X                17\n",
       "X 594             1\n",
       "Yelling           3\n",
       "`Drugs            1\n",
       "Length: 575, dtype: int64"
      ]
     },
     "execution_count": 11,
     "metadata": {},
     "output_type": "execute_result"
    }
   ],
   "source": [
    "'''En la columna de Disposition, se detalla 1 registro no coherente a la teoría del mismo'''\n",
    "data.groupby('OriginalCrimeTypeName').size()"
   ]
  },
  {
   "cell_type": "code",
   "execution_count": 12,
   "id": "85e39ffc",
   "metadata": {},
   "outputs": [],
   "source": [
    "'''Estandarizamos en OriginalCrimeTypeName'''\n",
    "data['OriginalCrimeTypeName'] = data['OriginalCrimeTypeName'].replace({'***901 Req***': '901 Req',\n",
    "                        '**Tazer**': 'Tazer',\n",
    "                        '*909*': '909',\n",
    "                        '.25/500e':'25/500e',\n",
    "                        '.52':'52',\n",
    "                        '`Drugs':'Drugs',\n",
    "                        'Fi**expedite**':'Fi expedite ',\n",
    "                        'Verbal':'Verbals',\n",
    "                        'Vendors':'Vendor',\n",
    "                        'Suspects':'Suspect',\n",
    "                        'Stattic':'Static',\n",
    "                        'Sleepers':'Sleeper',\n",
    "                        'Rept':'Report',\n",
    "                        'R.o. Violation':'R/o Violation',\n",
    "                        'Pay':'Pay Dispute',\n",
    "                        'Pay Dis':'Pay Dispute',\n",
    "                        'Pay Disp':'Pay Dispute',\n",
    "                        'Npa':'Npat',\n",
    "                        'Nabors':'Nabor',\n",
    "                        'Nabo':'Nabor',\n",
    "                        'Mal':'Male',\n",
    "                        'Mace':'Maced',\n",
    "                        'J/o':'Jo',\n",
    "                        'Jjp':'Jo',\n",
    "                        'H/r':'H&r',\n",
    "                        'Fire':'Fireworks',\n",
    "                        'Encampent':'Encampment',\n",
    "                        'Encampments':'Encampment',\n",
    "                        'Drp':'Drop',\n",
    "                        'Dp':'Drop',\n",
    "                        'Child':'Children',\n",
    "                        'Casers':'Caser',\n",
    "                        'Camp':'Camper',\n",
    "                        'Campers':'Camper',\n",
    "                        'Bart':'Bat',\n",
    "                        'Attempt':'Attemp',\n",
    "                        'Aggressive':'Agressive',\n",
    "                        'Aggressive 601':'Agressive'})"
   ]
  },
  {
   "cell_type": "code",
   "execution_count": null,
   "id": "4d394ae4",
   "metadata": {},
   "outputs": [],
   "source": []
  },
  {
   "cell_type": "code",
   "execution_count": 13,
   "id": "57a2cc17",
   "metadata": {},
   "outputs": [
    {
     "data": {
      "text/plain": [
       "Disposition\n",
       "22                77\n",
       "ABA               97\n",
       "ADM               46\n",
       "ADV             1129\n",
       "ARR               65\n",
       "CAN              353\n",
       "CIT             1406\n",
       "CRT                2\n",
       "GOA             1272\n",
       "HAN             2589\n",
       "INC               17\n",
       "NCR               82\n",
       "ND               423\n",
       "NOM              324\n",
       "Not recorded     496\n",
       "PAS              170\n",
       "REP              797\n",
       "SFD                1\n",
       "UTL              383\n",
       "dtype: int64"
      ]
     },
     "execution_count": 13,
     "metadata": {},
     "output_type": "execute_result"
    }
   ],
   "source": [
    "'''En la columna de Disposition, se detalla 1 registro no coherente a la teoría del mismo'''\n",
    "data.groupby('Disposition').size()"
   ]
  },
  {
   "cell_type": "code",
   "execution_count": 14,
   "id": "abd4fb75",
   "metadata": {},
   "outputs": [
    {
     "data": {
      "text/plain": [
       "Disposition\n",
       "ABA      97\n",
       "ADM      46\n",
       "ADV    1129\n",
       "ARR      65\n",
       "CAN     353\n",
       "CIT    1406\n",
       "CRT       2\n",
       "GOA    1272\n",
       "HAN    2589\n",
       "INC      17\n",
       "NCR      82\n",
       "ND      423\n",
       "NOM     324\n",
       "NR      573\n",
       "PAS     170\n",
       "REP     797\n",
       "SFD       1\n",
       "UTL     383\n",
       "dtype: int64"
      ]
     },
     "execution_count": 14,
     "metadata": {},
     "output_type": "execute_result"
    }
   ],
   "source": [
    "'''Siendo Disposition el estado actual de un arresto 22 no encaja con los demas datos'''\n",
    "data['Disposition'] = data['Disposition'].replace('22','Not recorded')\n",
    "data['Disposition'] = data['Disposition'].replace('Not recorded','NR')\n",
    "data.groupby('Disposition').size()"
   ]
  },
  {
   "cell_type": "code",
   "execution_count": 15,
   "id": "1c573c40",
   "metadata": {},
   "outputs": [
    {
     "data": {
      "text/plain": [
       "City\n",
       "Brisbane            1\n",
       "Daly City           5\n",
       "Presidio            3\n",
       "SAN FRANCISCO       1\n",
       "San Francisco    9665\n",
       "Treasure Isla      51\n",
       "Yerba Buena         3\n",
       "dtype: int64"
      ]
     },
     "execution_count": 15,
     "metadata": {},
     "output_type": "execute_result"
    }
   ],
   "source": [
    "'''En la columna de City, se detalla 1 registro no coherente a la mayoria de su escritura'''\n",
    "data.groupby('City').size()"
   ]
  },
  {
   "cell_type": "code",
   "execution_count": 20,
   "id": "a6a8ab7d",
   "metadata": {},
   "outputs": [
    {
     "data": {
      "text/plain": [
       "City\n",
       "Brisbane            1\n",
       "Daly City           5\n",
       "Presidio            3\n",
       "San Francisco    9669\n",
       "Treasure Isla      51\n",
       "dtype: int64"
      ]
     },
     "execution_count": 20,
     "metadata": {},
     "output_type": "execute_result"
    }
   ],
   "source": [
    "'''Aplicación de reemplazo en city'''\n",
    "data['City'] = data['City'].replace('SAN FRANCISCO','San Francisco')\n",
    "data['City'] = data['City'].replace('Yerba Buena','San Francisco')\n",
    "data.groupby('City').size()"
   ]
  },
  {
   "cell_type": "code",
   "execution_count": 25,
   "id": "073ea04c",
   "metadata": {},
   "outputs": [
    {
     "data": {
      "text/plain": [
       "AddressType\n",
       "Common Location     817\n",
       "Geo-Override        151\n",
       "Intersection       3702\n",
       "Premise Address    5059\n",
       "dtype: int64"
      ]
     },
     "execution_count": 25,
     "metadata": {},
     "output_type": "execute_result"
    }
   ],
   "source": [
    "'''En la columna de AddressType, se detalla 1 registro no coherente a la mayoria de su escritura'''\n",
    "data.groupby('AddressType').size()"
   ]
  },
  {
   "cell_type": "code",
   "execution_count": 18,
   "id": "f92a62ba",
   "metadata": {},
   "outputs": [
    {
     "data": {
      "text/plain": [
       "AddressType\n",
       "Common Location     817\n",
       "Geo-Override        151\n",
       "Intersection       3702\n",
       "Premise Address    5059\n",
       "dtype: int64"
      ]
     },
     "execution_count": 18,
     "metadata": {},
     "output_type": "execute_result"
    }
   ],
   "source": [
    "'''Aplicación de reemplazo en AddressType'''\n",
    "data['AddressType'] = data['AddressType'].replace('Intersectioon','Intersection')\n",
    "data.groupby('AddressType').size()"
   ]
  },
  {
   "cell_type": "markdown",
   "id": "de71bba0",
   "metadata": {},
   "source": [
    "# Datos a JSON"
   ]
  },
  {
   "cell_type": "code",
   "execution_count": 19,
   "id": "7d6af3b8",
   "metadata": {},
   "outputs": [
    {
     "data": {
      "text/html": [
       "<div>\n",
       "<style scoped>\n",
       "    .dataframe tbody tr th:only-of-type {\n",
       "        vertical-align: middle;\n",
       "    }\n",
       "\n",
       "    .dataframe tbody tr th {\n",
       "        vertical-align: top;\n",
       "    }\n",
       "\n",
       "    .dataframe thead th {\n",
       "        text-align: right;\n",
       "    }\n",
       "</style>\n",
       "<table border=\"1\" class=\"dataframe\">\n",
       "  <thead>\n",
       "    <tr style=\"text-align: right;\">\n",
       "      <th></th>\n",
       "      <th>CrimeId</th>\n",
       "      <th>OriginalCrimeTypeName</th>\n",
       "      <th>CallDateTime</th>\n",
       "      <th>Disposition</th>\n",
       "      <th>Address</th>\n",
       "      <th>City</th>\n",
       "      <th>State</th>\n",
       "      <th>AgencyId</th>\n",
       "      <th>AddressType</th>\n",
       "    </tr>\n",
       "  </thead>\n",
       "  <tbody>\n",
       "    <tr>\n",
       "      <th>0</th>\n",
       "      <td>160903280</td>\n",
       "      <td>Assault / Battery</td>\n",
       "      <td>2016-03-30T18:42:00</td>\n",
       "      <td>REP</td>\n",
       "      <td>100 Block Of Chilton Av</td>\n",
       "      <td>San Francisco</td>\n",
       "      <td>CA</td>\n",
       "      <td>1</td>\n",
       "      <td>Premise Address</td>\n",
       "    </tr>\n",
       "    <tr>\n",
       "      <th>1</th>\n",
       "      <td>160912272</td>\n",
       "      <td>Homeless Complaint</td>\n",
       "      <td>2016-03-31T15:31:00</td>\n",
       "      <td>GOA</td>\n",
       "      <td>2300 Block Of Market St</td>\n",
       "      <td>San Francisco</td>\n",
       "      <td>CA</td>\n",
       "      <td>1</td>\n",
       "      <td>Premise Address</td>\n",
       "    </tr>\n",
       "    <tr>\n",
       "      <th>2</th>\n",
       "      <td>160912590</td>\n",
       "      <td>Susp Info</td>\n",
       "      <td>2016-03-31T16:49:00</td>\n",
       "      <td>GOA</td>\n",
       "      <td>2300 Block Of Market St</td>\n",
       "      <td>San Francisco</td>\n",
       "      <td>CA</td>\n",
       "      <td>1</td>\n",
       "      <td>Premise Address</td>\n",
       "    </tr>\n",
       "    <tr>\n",
       "      <th>3</th>\n",
       "      <td>160912801</td>\n",
       "      <td>Report</td>\n",
       "      <td>2016-03-31T17:38:00</td>\n",
       "      <td>GOA</td>\n",
       "      <td>500 Block Of 7th St</td>\n",
       "      <td>San Francisco</td>\n",
       "      <td>CA</td>\n",
       "      <td>1</td>\n",
       "      <td>Premise Address</td>\n",
       "    </tr>\n",
       "    <tr>\n",
       "      <th>4</th>\n",
       "      <td>160912811</td>\n",
       "      <td>594</td>\n",
       "      <td>2016-03-31T17:42:00</td>\n",
       "      <td>REP</td>\n",
       "      <td>Beale St/bryant St</td>\n",
       "      <td>San Francisco</td>\n",
       "      <td>CA</td>\n",
       "      <td>1</td>\n",
       "      <td>Intersection</td>\n",
       "    </tr>\n",
       "    <tr>\n",
       "      <th>...</th>\n",
       "      <td>...</td>\n",
       "      <td>...</td>\n",
       "      <td>...</td>\n",
       "      <td>...</td>\n",
       "      <td>...</td>\n",
       "      <td>...</td>\n",
       "      <td>...</td>\n",
       "      <td>...</td>\n",
       "      <td>...</td>\n",
       "    </tr>\n",
       "    <tr>\n",
       "      <th>9724</th>\n",
       "      <td>160964210</td>\n",
       "      <td>Well Being Check</td>\n",
       "      <td>2016-04-05T23:38:00</td>\n",
       "      <td>GOA</td>\n",
       "      <td>Hollister Av/hawes St</td>\n",
       "      <td>San Francisco</td>\n",
       "      <td>CA</td>\n",
       "      <td>1</td>\n",
       "      <td>Intersection</td>\n",
       "    </tr>\n",
       "    <tr>\n",
       "      <th>9725</th>\n",
       "      <td>160964216</td>\n",
       "      <td>Traffic Stop</td>\n",
       "      <td>2016-04-05T23:43:00</td>\n",
       "      <td>ADV</td>\n",
       "      <td>California St/mason St</td>\n",
       "      <td>San Francisco</td>\n",
       "      <td>CA</td>\n",
       "      <td>1</td>\n",
       "      <td>Intersection</td>\n",
       "    </tr>\n",
       "    <tr>\n",
       "      <th>9726</th>\n",
       "      <td>160964227</td>\n",
       "      <td>Traffic Stop</td>\n",
       "      <td>2016-04-05T23:48:00</td>\n",
       "      <td>CIT</td>\n",
       "      <td>Rosella Ct/onondaga Av</td>\n",
       "      <td>San Francisco</td>\n",
       "      <td>CA</td>\n",
       "      <td>1</td>\n",
       "      <td>Intersection</td>\n",
       "    </tr>\n",
       "    <tr>\n",
       "      <th>9727</th>\n",
       "      <td>160964229</td>\n",
       "      <td>Passing Call</td>\n",
       "      <td>2016-04-05T23:48:00</td>\n",
       "      <td>NR</td>\n",
       "      <td>0 Blk Herbst Rd</td>\n",
       "      <td>San Francisco</td>\n",
       "      <td>CA</td>\n",
       "      <td>1</td>\n",
       "      <td>Geo-Override</td>\n",
       "    </tr>\n",
       "    <tr>\n",
       "      <th>9728</th>\n",
       "      <td>160964249</td>\n",
       "      <td>Traffic Stop</td>\n",
       "      <td>2016-04-05T23:54:00</td>\n",
       "      <td>ADV</td>\n",
       "      <td>Grant Av/geary St</td>\n",
       "      <td>San Francisco</td>\n",
       "      <td>CA</td>\n",
       "      <td>1</td>\n",
       "      <td>Intersection</td>\n",
       "    </tr>\n",
       "  </tbody>\n",
       "</table>\n",
       "<p>9729 rows × 9 columns</p>\n",
       "</div>"
      ],
      "text/plain": [
       "        CrimeId OriginalCrimeTypeName         CallDateTime Disposition  \\\n",
       "0     160903280     Assault / Battery  2016-03-30T18:42:00         REP   \n",
       "1     160912272    Homeless Complaint  2016-03-31T15:31:00         GOA   \n",
       "2     160912590             Susp Info  2016-03-31T16:49:00         GOA   \n",
       "3     160912801                Report  2016-03-31T17:38:00         GOA   \n",
       "4     160912811                   594  2016-03-31T17:42:00         REP   \n",
       "...         ...                   ...                  ...         ...   \n",
       "9724  160964210      Well Being Check  2016-04-05T23:38:00         GOA   \n",
       "9725  160964216          Traffic Stop  2016-04-05T23:43:00         ADV   \n",
       "9726  160964227          Traffic Stop  2016-04-05T23:48:00         CIT   \n",
       "9727  160964229          Passing Call  2016-04-05T23:48:00          NR   \n",
       "9728  160964249          Traffic Stop  2016-04-05T23:54:00         ADV   \n",
       "\n",
       "                      Address           City State  AgencyId      AddressType  \n",
       "0     100 Block Of Chilton Av  San Francisco    CA         1  Premise Address  \n",
       "1     2300 Block Of Market St  San Francisco    CA         1  Premise Address  \n",
       "2     2300 Block Of Market St  San Francisco    CA         1  Premise Address  \n",
       "3         500 Block Of 7th St  San Francisco    CA         1  Premise Address  \n",
       "4          Beale St/bryant St  San Francisco    CA         1     Intersection  \n",
       "...                       ...            ...   ...       ...              ...  \n",
       "9724    Hollister Av/hawes St  San Francisco    CA         1     Intersection  \n",
       "9725   California St/mason St  San Francisco    CA         1     Intersection  \n",
       "9726   Rosella Ct/onondaga Av  San Francisco    CA         1     Intersection  \n",
       "9727          0 Blk Herbst Rd  San Francisco    CA         1     Geo-Override  \n",
       "9728        Grant Av/geary St  San Francisco    CA         1     Intersection  \n",
       "\n",
       "[9729 rows x 9 columns]"
      ]
     },
     "execution_count": 19,
     "metadata": {},
     "output_type": "execute_result"
    }
   ],
   "source": [
    "'''Exportación de datos a csv'''\n",
    "data.to_csv('data_cleaning.csv', sep=',', index=False, header=True)\n",
    "'''Exportación de datos a json'''\n",
    "data.to_json('data_cleaning.json', orient='records', lines=True)\n",
    "'''Lectura de JSON'''\n",
    "data_json = pd.read_json(\"data_cleaning.json\", orient='records', lines=True)\n",
    "data_json"
   ]
  },
  {
   "cell_type": "code",
   "execution_count": null,
   "id": "34077136",
   "metadata": {},
   "outputs": [],
   "source": []
  }
 ],
 "metadata": {
  "kernelspec": {
   "display_name": "Python 3 (ipykernel)",
   "language": "python",
   "name": "python3"
  },
  "language_info": {
   "codemirror_mode": {
    "name": "ipython",
    "version": 3
   },
   "file_extension": ".py",
   "mimetype": "text/x-python",
   "name": "python",
   "nbconvert_exporter": "python",
   "pygments_lexer": "ipython3",
   "version": "3.9.12"
  }
 },
 "nbformat": 4,
 "nbformat_minor": 5
}
